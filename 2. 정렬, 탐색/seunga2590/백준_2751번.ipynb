{
 "cells": [
  {
   "cell_type": "code",
   "execution_count": 8,
   "metadata": {},
   "outputs": [
    {
     "name": "stdout",
     "output_type": "stream",
     "text": [
      "1\n",
      "2\n",
      "3\n",
      "4\n",
      "5\n"
     ]
    }
   ],
   "source": [
    "n = int(input())\n",
    "\n",
    "answer = []\n",
    "for i in range(n):\n",
    "    answer.append(int(input()))\n",
    "    \n",
    "answer.sort()\n",
    "for j in answer:\n",
    "    print(j)"
   ]
  },
  {
   "cell_type": "code",
   "execution_count": 7,
   "metadata": {},
   "outputs": [],
   "source": [
    "def mergeSort(listA):\n",
    "    if len(listA)<=1:        \n",
    "        return listA\n",
    "    mid = len(listA)//2\n",
    "    left = mergeSort(listA[:mid])\n",
    "    right = mergeSort(listA[mid:])\n",
    "    return merge(left,right)\n",
    "\n",
    "def merge(left, right):\n",
    "    result = []\n",
    "    left_index, right_index = 0, 0\n",
    "\n",
    "    while len(left) > left_index and len(right) > right_index:\n",
    "        if left[left_index] > right[right_index]:\n",
    "            result.append(right[right_index])\n",
    "            right_index += 1\n",
    "        else:\n",
    "            result.append(left[left_index])\n",
    "            left_index += 1\n",
    "    while len(left) > left_index:\n",
    "        result.append(left[left_index])\n",
    "        left_index += 1\n",
    "    while len(right) > right_index:\n",
    "        result.append(right[right_index])\n",
    "        right_index += 1\n",
    "    return result"
   ]
  },
  {
   "cell_type": "code",
   "execution_count": 6,
   "metadata": {},
   "outputs": [
    {
     "name": "stdout",
     "output_type": "stream",
     "text": [
      "1\n",
      "2\n",
      "3\n",
      "4\n",
      "5\n"
     ]
    }
   ],
   "source": [
    "n = int(input())\n",
    "arr = []\n",
    "\n",
    "for i in range(n):\n",
    "    arr.append(int(input()))\n",
    "\n",
    "arr = mergeSort(arr)\n",
    "\n",
    "for j in arr:\n",
    "    print(j)"
   ]
  },
  {
   "cell_type": "code",
   "execution_count": 1,
   "metadata": {},
   "outputs": [],
   "source": [
    "def quick_sort(array):\n",
    "    if len(array) <=1:\n",
    "        return array\n",
    "    pivot = array[:1]\n",
    "    rest_p = array[1:]\n",
    "    \n",
    "    for i in rest_p:\n",
    "        if i <= pivot:\n",
    "            left = i\n",
    "        elif i > pivot:\n",
    "            right = i\n",
    "\n",
    "    return quick_sort(left) + quick_sort(right)\n",
    "           + [pivot] "
   ]
  },
  {
   "cell_type": "code",
   "execution_count": null,
   "metadata": {},
   "outputs": [],
   "source": []
  }
 ],
 "metadata": {
  "kernelspec": {
   "display_name": "Python 3.9.12 ('base')",
   "language": "python",
   "name": "python3"
  },
  "language_info": {
   "codemirror_mode": {
    "name": "ipython",
    "version": 3
   },
   "file_extension": ".py",
   "mimetype": "text/x-python",
   "name": "python",
   "nbconvert_exporter": "python",
   "pygments_lexer": "ipython3",
   "version": "3.9.12"
  },
  "orig_nbformat": 4,
  "vscode": {
   "interpreter": {
    "hash": "aca97298169bc572c3ec470dd784ff61581ee58d26737e53ade8f07e1a83bfa3"
   }
  }
 },
 "nbformat": 4,
 "nbformat_minor": 2
}
