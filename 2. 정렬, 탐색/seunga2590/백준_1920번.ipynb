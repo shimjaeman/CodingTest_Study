{
 "cells": [
  {
   "cell_type": "markdown",
   "metadata": {},
   "source": [
    "선형 탐색(앞부터 탐색)"
   ]
  },
  {
   "cell_type": "code",
   "execution_count": 9,
   "metadata": {},
   "outputs": [
    {
     "name": "stdout",
     "output_type": "stream",
     "text": [
      "1\n",
      "1\n",
      "0\n",
      "0\n",
      "1\n"
     ]
    }
   ],
   "source": [
    "a = int(input())\n",
    "b = set(map(int, input().split())) #list에서 변경\n",
    "c = int(input())\n",
    "d = list(map(int, input().split()))\n",
    "\n",
    "#b = sorted(b)\n",
    "\n",
    "for i in d:\n",
    "    if i in b:\n",
    "        print(1)\n",
    "    else:\n",
    "        print(0)"
   ]
  },
  {
   "cell_type": "markdown",
   "metadata": {},
   "source": [
    "재귀이용한 이진탐색"
   ]
  },
  {
   "cell_type": "code",
   "execution_count": 1,
   "metadata": {},
   "outputs": [],
   "source": [
    "a = int(input())\n",
    "b = list(map(int, input().split()))\n",
    "c = int(input())\n",
    "d = list(map(int, input().split()))"
   ]
  },
  {
   "cell_type": "code",
   "execution_count": 6,
   "metadata": {},
   "outputs": [],
   "source": [
    "def binary_search(data, comparison):\n",
    "    medium = len(data) // 2\n",
    "    if comparison not in data:\n",
    "        return False\n",
    "    else:\n",
    "        if comparison == data[medium]:\n",
    "            return True\n",
    "        elif comparison > data[medium]:\n",
    "            return binary_search(data[medium:], comparison)\n",
    "        elif comparison < data[medium]:\n",
    "            return binary_search(data[:medium], comparison)"
   ]
  },
  {
   "cell_type": "code",
   "execution_count": 8,
   "metadata": {},
   "outputs": [
    {
     "name": "stdout",
     "output_type": "stream",
     "text": [
      "1\n",
      "1\n",
      "0\n",
      "0\n",
      "1\n"
     ]
    }
   ],
   "source": [
    "for i in d:\n",
    "    if binary_search(b, i):\n",
    "        print(1)\n",
    "    else:\n",
    "        print(0)"
   ]
  }
 ],
 "metadata": {
  "kernelspec": {
   "display_name": "Python 3.10.7 64-bit",
   "language": "python",
   "name": "python3"
  },
  "language_info": {
   "codemirror_mode": {
    "name": "ipython",
    "version": 3
   },
   "file_extension": ".py",
   "mimetype": "text/x-python",
   "name": "python",
   "nbconvert_exporter": "python",
   "pygments_lexer": "ipython3",
   "version": "3.10.7"
  },
  "orig_nbformat": 4,
  "vscode": {
   "interpreter": {
    "hash": "6ec9f245aa80cfbf2e54899a46aee335b1474b8ff5fecc884f9176a59d35a72c"
   }
  }
 },
 "nbformat": 4,
 "nbformat_minor": 2
}
