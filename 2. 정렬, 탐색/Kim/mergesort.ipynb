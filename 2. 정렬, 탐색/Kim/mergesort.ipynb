{
 "cells": [
  {
   "cell_type": "markdown",
   "metadata": {},
   "source": [
    "## 백준 2751 _ merge sort  \n"
   ]
  },
  {
   "cell_type": "code",
   "execution_count": 8,
   "metadata": {},
   "outputs": [
    {
     "data": {
      "text/plain": [
       "[1, 2, 3, 4, 5]"
      ]
     },
     "execution_count": 8,
     "metadata": {},
     "output_type": "execute_result"
    }
   ],
   "source": [
    "n = int(input())\n",
    "n_lst= [ int(input()) for i in range(1,n+1)]\n",
    "\n",
    "def mergeSort(listA):\n",
    "    if len(listA)<=1:        return listA\n",
    "    mid = len(listA)//2\n",
    "    left = mergeSort(listA[:mid])\n",
    "    right = mergeSort(listA[mid:])\n",
    "    return merge(left,right)\n",
    " \n",
    "def merge(left, right):\n",
    "    merged = []\n",
    "    while (len(left)>0) or (len(right)>0):\n",
    "        if len(right) <= 0: #왼쪽에만 아이템이 있으면\n",
    "            return merged+left\n",
    "        elif len(left) <=0: #오른쪽에만 아이템이 있으면\n",
    "            return merged+right            \n",
    "        else: #왼쪽과 오른쪾에 모두 있으면    \n",
    "            if left[0]<=right[0]:\n",
    "                merged.append(left[0])\n",
    "                del left[0]\n",
    "            else:\n",
    "                merged.append(right[0])\n",
    "                del right[0]\n",
    "    return merged\n",
    "\n",
    "mergeSort(n_lst)"
   ]
  },
  {
   "cell_type": "code",
   "execution_count": 9,
   "metadata": {},
   "outputs": [
    {
     "name": "stdout",
     "output_type": "stream",
     "text": [
      "[1, 2, 3, 5]\n"
     ]
    }
   ],
   "source": [
    "n = int(input())\n",
    "n_lst= [ int(input()) for i in range(1,n+1)]\n",
    "\n",
    "n_lst.sort()\n",
    "print(n_lst)"
   ]
  },
  {
   "cell_type": "code",
   "execution_count": 13,
   "metadata": {},
   "outputs": [
    {
     "name": "stdout",
     "output_type": "stream",
     "text": [
      "[[1], [2], [3]]\n"
     ]
    }
   ],
   "source": [
    "#재귀를 안쓰고 하는 방법은 없을까?\n",
    "\n",
    "n = int(input())\n",
    "#애초에 입력 받을 때부터 -> [[3], [2], [4]] 하나씩 쪼개서 넣기\n",
    "n_lst= [ [int(input())] for i in range(1,n+1)]\n",
    "\n",
    "def my_merge(n_lst):\n",
    "    if len(n_lst) <2:\n",
    "        num = [ n_lst[i] for i in range(0,len(n_lst))]\n",
    "        return num\n",
    "# [7,8] , [3,4,9]\n",
    "    while len(n_lst) <= 1: #한개로 합쳐질때까지 반복\n",
    "        # [5,4] [3,2] [1]\n",
    "        for i in range(0,len(n_lst)):\n",
    "            \n",
    "#"
   ]
  },
  {
   "cell_type": "code",
   "execution_count": 36,
   "metadata": {},
   "outputs": [
    {
     "data": {
      "text/plain": [
       "[2, 3, 4, 4, 5, 7]"
      ]
     },
     "execution_count": 36,
     "metadata": {},
     "output_type": "execute_result"
    }
   ],
   "source": [
    "#arr = [7,5,4,2,3,4]\n",
    "def seq_merge_sort(arr):\n",
    "    rght = 0; wid = 0; rend = 0; left = 0\n",
    "    k = 1\n",
    "\n",
    "    num = len(arr) #정렬하고 싶은 리스트 길이 6\n",
    "    temp = [0] * num # [0, 0, ,,,, 0] \n",
    "\n",
    "    while(k < num): # 리스트 길이보다 k가 적으면 반복 -> 왜?\n",
    "        left = 0 #left 계속 0으로 초기화\n",
    "        while(left + k < num): # k < 6\n",
    "            rght = left + k # 0+1\n",
    "            rend = rght + k # 0+1\n",
    "            if(rend > num): \n",
    "                rend = num\n",
    "            m = left; i = left; j = rght # 1, 1, 1\n",
    "\n",
    "            while(i < rght and j < rend): #\n",
    "                if (arr[i] <= arr[j]):\n",
    "                    temp[m] = arr[i]\n",
    "                    i += 1\n",
    "                else:\n",
    "                    temp[m] = arr[j]\n",
    "                    j += 1\n",
    "                m += 1\n",
    "\n",
    "            while(i < rght):\n",
    "                temp[m] = arr[i]\n",
    "                i += 1; m += 1\n",
    "            while(j < rend):\n",
    "                temp[m] = arr[j]\n",
    "                j += 1; m += 1\n",
    "            m = left\n",
    "            while(m < rend):\n",
    "                arr[m] = temp[m]\n",
    "                m += 1\n",
    "            left += k * 2\n",
    "        k *= 2\n",
    "    return arr\n",
    "\n",
    "arr = [7,5,4,2,3,4]\n",
    "seq_merge_sort(arr)"
   ]
  },
  {
   "cell_type": "markdown",
   "metadata": {},
   "source": [
    "[비재귀 병합정렬](https://snoop-study.tistory.com/m/41)"
   ]
  },
  {
   "cell_type": "code",
   "execution_count": null,
   "metadata": {},
   "outputs": [],
   "source": [
    "def solution(n, arr):\n",
    "    answer = 0\n",
    "    merge = arr\n",
    "    for i in range(1, n+1, 2): # i: 분할할 크기\n",
    "        if i!= 1:\n",
    "            i -= 1\n",
    "        si = 0  # 인덱스\n",
    "        while si < n:\n",
    "            # 분할 범위 단위로 정렬\n",
    "            index1 = si\n",
    "            index2 = si+i\n",
    "            m = []\n",
    "            # index2가 배열 길이를 초과했을 경우(index1+i이 배열 끝일 경우)\n",
    "            if index2 >= n:\n",
    "                index2 = si\n",
    "            while index1-si < i or index2-si-i < i:\n",
    "                if index2 == si:\n",
    "                    m = merge[si:]\n",
    "                    break\n",
    "                if index1-si >= i:\n",
    "                    if index2 >= n:\n",
    "                        break\n",
    "                    m.append(merge[index2])\n",
    "                    index2+=1\n",
    "                    continue\n",
    "                elif index2-si-i >= i or index2 >= n:\n",
    "                    m.append(merge[index1])\n",
    "                    index1+=1\n",
    "                    continue\n",
    "                if int(merge[index1]) < int(merge[index2]):\n",
    "                    m.append(merge[index1])\n",
    "                    index1+=1\n",
    "                else:\n",
    "                    m.append(merge[index2])\n",
    "                    index2+=1\n",
    "            merge = merge[:si] + m + merge[si+(i*2):]\n",
    "            si += i*2\n",
    "    return merge"
   ]
  },
  {
   "cell_type": "code",
   "execution_count": 32,
   "metadata": {},
   "outputs": [
    {
     "name": "stdout",
     "output_type": "stream",
     "text": [
      "[4, 1, 5, 2, 3]\n",
      "[1, 3, 7, 9, 5]\n",
      "1\n",
      "1\n",
      "0\n",
      "0\n",
      "1\n"
     ]
    }
   ],
   "source": [
    "n = int(input())\n",
    "n_lst =list(map(int,input().split()))\n",
    "print(n_lst)\n",
    "# [4, 1, 5, 2, 3]\n",
    "\n",
    "m = int(input())\n",
    "m_lst = list(map(int,input().split()))\n",
    "print(m_lst)\n",
    "# [1, 3, 7, 9, 5]\n",
    "\n",
    "#이진탐색 \n",
    "#정렬된 리스트로 만든 후에 -> 이진 탐색\n",
    "n_lst.sort()\n",
    "\n",
    "\n",
    "start = 0\n",
    "end = len(n_lst)-1\n",
    "\n",
    "#바이너리 타겟 값 하나 주어지면 -> 서치해서 -> T F (재귀로)\n",
    "def b_s(target, start, end, n_lst):\n",
    "\n",
    "    mid = (start+end)//2\n",
    "\n",
    "    if target > n_lst[mid]:\n",
    "        start = mid+1\n",
    "    elif target < n_lst[mid]:\n",
    "        end = mid-1\n",
    "    elif target == n_lst[mid] :\n",
    "        return 1\n",
    "    if start > end:\n",
    "        return 0\n",
    "    return b_s(target, start, end, n_lst)\n",
    "    \n",
    "        \n",
    "#타겟 값 for 문 또는 while 문으로 하나씩 b_S 함수 실행\n",
    "for i in range(0,len(m_lst)):\n",
    "    result= b_s(m_lst[i], start, end, n_lst)\n",
    "    print(result)\n"
   ]
  }
 ],
 "metadata": {
  "interpreter": {
   "hash": "9c31b761908d0ab0748cf6f7cbd5b0634bc2686eae574b756b7937eca256967c"
  },
  "kernelspec": {
   "display_name": "Python 3 (ipykernel)",
   "language": "python",
   "name": "python3"
  },
  "language_info": {
   "codemirror_mode": {
    "name": "ipython",
    "version": 3
   },
   "file_extension": ".py",
   "mimetype": "text/x-python",
   "name": "python",
   "nbconvert_exporter": "python",
   "pygments_lexer": "ipython3",
   "version": "3.9.12"
  }
 },
 "nbformat": 4,
 "nbformat_minor": 2
}
