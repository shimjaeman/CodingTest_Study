{
 "cells": [
  {
   "cell_type": "markdown",
   "metadata": {},
   "source": [
    "-----\n",
    "### 백준 1920_이진탐색  \n"
   ]
  },
  {
   "cell_type": "markdown",
   "metadata": {},
   "source": [
    "그냥 풀기  \n",
    "-> 출력 결과는 동일하나  \n",
    "-> 런타임에러  "
   ]
  },
  {
   "cell_type": "code",
   "execution_count": 23,
   "metadata": {},
   "outputs": [
    {
     "name": "stdout",
     "output_type": "stream",
     "text": [
      "1\n",
      "1\n",
      "0\n",
      "0\n",
      "1\n"
     ]
    }
   ],
   "source": [
    "n = int(input())\n",
    "n_lst =list(map(int,input().split()))\n",
    "m = int(input())\n",
    "m_lst = list(map(int,input().split()))\n",
    "\n",
    "for i in range(0,len(m_lst)):\n",
    "    if m_lst[i] in n_lst:\n",
    "        print(1)\n",
    "    else:\n",
    "        print(0)\n"
   ]
  },
  {
   "cell_type": "markdown",
   "metadata": {},
   "source": [
    "이진탐색  \n",
    "-> 제출 완료  "
   ]
  },
  {
   "cell_type": "code",
   "execution_count": 27,
   "metadata": {},
   "outputs": [
    {
     "name": "stdout",
     "output_type": "stream",
     "text": [
      "[4, 1, 5, 2, 3]\n",
      "[1, 3, 7, 9, 5]\n",
      "1\n",
      "1\n",
      "0\n",
      "0\n",
      "1\n"
     ]
    }
   ],
   "source": [
    "n = int(input())\n",
    "n_lst =list(map(int,input().split()))\n",
    "print(n_lst)\n",
    "# [4, 1, 5, 2, 3]\n",
    "\n",
    "m = int(input())\n",
    "m_lst = list(map(int,input().split()))\n",
    "print(m_lst)\n",
    "# [1, 3, 7, 9, 5]\n",
    "\n",
    "#이진탐색 \n",
    "#정렬된 리스트로 만든 후에 -> 이진 탐색\n",
    "n_lst.sort()\n",
    "\n",
    "#바이너리 타겟 값 하나 주어지면 -> 서치해서 -> T F\n",
    "def b_s(target, n_lst):\n",
    "    start = 0\n",
    "    end = len(n_lst)-1\n",
    "\n",
    "    while start <= end:\n",
    "        mid = (start+end)//2\n",
    "\n",
    "        if target > n_lst[mid]:\n",
    "            start = mid+1\n",
    "        elif target < n_lst[mid]:\n",
    "            end = mid-1\n",
    "        elif target == n_lst[mid] :\n",
    "            return 1\n",
    "    return 0\n",
    "\n",
    "       \n",
    "#타겟 값 for 문 또는 while 문으로 하나씩 b_S 함수 실행\n",
    "for i in range(0,len(m_lst)):\n",
    "    result= b_s(m_lst[i], n_lst)\n",
    "    print(result)\n"
   ]
  },
  {
   "cell_type": "markdown",
   "metadata": {},
   "source": [
    "이진탐색 재귀적 접근  "
   ]
  },
  {
   "cell_type": "code",
   "execution_count": 32,
   "metadata": {},
   "outputs": [
    {
     "name": "stdout",
     "output_type": "stream",
     "text": [
      "[4, 1, 5, 2, 3]\n",
      "[1, 3, 7, 9, 5]\n",
      "1\n",
      "1\n",
      "0\n",
      "0\n",
      "1\n"
     ]
    }
   ],
   "source": [
    "n = int(input())\n",
    "n_lst =list(map(int,input().split()))\n",
    "print(n_lst)\n",
    "# [4, 1, 5, 2, 3]\n",
    "\n",
    "m = int(input())\n",
    "m_lst = list(map(int,input().split()))\n",
    "print(m_lst)\n",
    "# [1, 3, 7, 9, 5]\n",
    "\n",
    "#이진탐색 \n",
    "#정렬된 리스트로 만든 후에 -> 이진 탐색\n",
    "n_lst.sort()\n",
    "\n",
    "\n",
    "start = 0\n",
    "end = len(n_lst)-1\n",
    "\n",
    "#바이너리 타겟 값 하나 주어지면 -> 서치해서 -> T F (재귀로)\n",
    "def b_s(target, start, end, n_lst):\n",
    "\n",
    "    mid = (start+end)//2\n",
    "\n",
    "    if target > n_lst[mid]:\n",
    "        start = mid+1\n",
    "    elif target < n_lst[mid]:\n",
    "        end = mid-1\n",
    "    elif target == n_lst[mid] :\n",
    "        return 1\n",
    "    if start > end:\n",
    "        return 0\n",
    "    return b_s(target, start, end, n_lst)\n",
    "    \n",
    "        \n",
    "#타겟 값 for 문 또는 while 문으로 하나씩 b_S 함수 실행\n",
    "for i in range(0,len(m_lst)):\n",
    "    result= b_s(m_lst[i], start, end, n_lst)\n",
    "    print(result)\n"
   ]
  }
 ],
 "metadata": {
  "interpreter": {
   "hash": "9c31b761908d0ab0748cf6f7cbd5b0634bc2686eae574b756b7937eca256967c"
  },
  "kernelspec": {
   "display_name": "Python 3 (ipykernel)",
   "language": "python",
   "name": "python3"
  },
  "language_info": {
   "codemirror_mode": {
    "name": "ipython",
    "version": 3
   },
   "file_extension": ".py",
   "mimetype": "text/x-python",
   "name": "python",
   "nbconvert_exporter": "python",
   "pygments_lexer": "ipython3",
   "version": "3.9.12"
  }
 },
 "nbformat": 4,
 "nbformat_minor": 2
}
